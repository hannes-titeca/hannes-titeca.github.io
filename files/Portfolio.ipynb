{
 "cells": [
  {
   "cell_type": "markdown",
   "id": "b9367543",
   "metadata": {},
   "source": [
    "# Portfolio\n",
    "This notebook can be run in an interactive environment using binder: [![Binder](https://mybinder.org/badge_logo.svg)](https://mybinder.org/v2/gh/hannes-titeca/hannes-titeca.github.io/HEAD?labpath=files%2FPortfolio.ipynb)\n"
   ]
  },
  {
   "cell_type": "code",
   "execution_count": 1,
   "id": "41dd7e45",
   "metadata": {},
   "outputs": [],
   "source": [
    "#import libraries\n",
    "import pandas as pd\n",
    "from sklearn.linear_model import LinearRegression #used to make the model\n",
    "from sklearn.model_selection import train_test_split #used to split the dataset into training and testing\n",
    "import seaborn as sns #visualisation\n",
    "import matplotlib.pyplot as plt\n",
    "from scipy import stats"
   ]
  },
  {
   "cell_type": "code",
   "execution_count": null,
   "id": "ed8b97e9",
   "metadata": {},
   "outputs": [],
   "source": [
    "print(\"Hello World\")"
   ]
  },
  {
   "cell_type": "code",
   "execution_count": null,
   "id": "fc56490e",
   "metadata": {},
   "outputs": [],
   "source": []
  },
  {
   "cell_type": "code",
   "execution_count": null,
   "id": "23884245",
   "metadata": {},
   "outputs": [],
   "source": []
  }
 ],
 "metadata": {
  "kernelspec": {
   "display_name": "Python 3 (ipykernel)",
   "language": "python",
   "name": "python3"
  },
  "language_info": {
   "codemirror_mode": {
    "name": "ipython",
    "version": 3
   },
   "file_extension": ".py",
   "mimetype": "text/x-python",
   "name": "python",
   "nbconvert_exporter": "python",
   "pygments_lexer": "ipython3",
   "version": "3.11.5"
  }
 },
 "nbformat": 4,
 "nbformat_minor": 5
}
